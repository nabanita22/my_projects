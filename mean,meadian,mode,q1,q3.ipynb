{
 "cells": [
  {
   "cell_type": "markdown",
   "id": "a30bed44",
   "metadata": {},
   "source": [
    "\n",
    "## find mean median mode q1 q2  q3"
   ]
  },
  {
   "cell_type": "code",
   "execution_count": 116,
   "id": "0ca8cd84",
   "metadata": {},
   "outputs": [],
   "source": [
    "def statistics(a):\n",
    "    mean=0\n",
    "    count=0\n",
    "    for i in a:\n",
    "        count+=i\n",
    "    mean=round(count/len(a),2)\n",
    "    #return mean\n",
    "    print(f'mean value is {mean}')\n",
    "    \n",
    "\n",
    "\n",
    "    import math\n",
    "    length=len(a)\n",
    "    a.sort()\n",
    "    if length%2==0:\n",
    "        q1_formula=(length+1)/4\n",
    "        q2_formula=(length+1)/2\n",
    "        q3_formula=3*(length+1)/4\n",
    "\n",
    "        q1=(a[math.floor(q1_formula)-1]+a[math.ceil(q1_formula)-1])/2\n",
    "        q2=(a[(math.floor(q2_formula)-1)]+a[math.ceil(q2_formula)-1])/2\n",
    "        q3=(a[(math.floor(q3_formula)-1)]+a[math.ceil(q3_formula)-1])/2\n",
    "        print(f'Q1 value {q1}\\n Q2 value {q2}\\n Q3 value {q3}')\n",
    "    else:\n",
    "        q2=a[int(length/2)]\n",
    "        q1_list=[]\n",
    "        q3_list=[]\n",
    "        for i in range(int(length/2)):\n",
    "            q1_list.append(a[i])\n",
    "        for j in range (int(length/2)+1,len(a)):\n",
    "            q3_list.append(a[j])\n",
    "        q1=q1_list[int(len(q1_list)/2)]\n",
    "        q3=q3_list[int(len(q3_list)/2)]\n",
    "        print(f'Q1 value {q1}\\n Q2 value {q2}\\n Q3 value {q3}')\n",
    "        \n",
    "#def mode(a):\n",
    "    l=0\n",
    "    dit={}\n",
    "    for i in range(len(a)):\n",
    "        count=0\n",
    "        l=a[i]\n",
    "        for j in a:\n",
    "            if l==j:\n",
    "                count+=1\n",
    "                dit[j]=count\n",
    "    #print(dit)\n",
    "    max_key = next(iter(dit))\n",
    "    for key in dit:\n",
    "        if dit[key] > dit[max_key]:\n",
    "            max_key = key\n",
    "    if dit[max_key]>1:\n",
    "        print(f'mode value is {max_key}')\n",
    "    else:\n",
    "        print(\"this set is multimodal\")\n",
    "\n"
   ]
  },
  {
   "cell_type": "code",
   "execution_count": 118,
   "id": "e810cb4a",
   "metadata": {},
   "outputs": [
    {
     "name": "stdout",
     "output_type": "stream",
     "text": [
      "mean value is 31.13\n",
      "Q1 value 2\n",
      " Q2 value 21\n",
      " Q3 value 60\n",
      "mode value is 2\n"
     ]
    }
   ],
   "source": [
    "statistics([60,21,32,2,6,8,70,87,90,43,22,21,2,2,1])"
   ]
  },
  {
   "cell_type": "code",
   "execution_count": null,
   "id": "711bfe76",
   "metadata": {},
   "outputs": [],
   "source": []
  }
 ],
 "metadata": {
  "kernelspec": {
   "display_name": "Python 3 (ipykernel)",
   "language": "python",
   "name": "python3"
  },
  "language_info": {
   "codemirror_mode": {
    "name": "ipython",
    "version": 3
   },
   "file_extension": ".py",
   "mimetype": "text/x-python",
   "name": "python",
   "nbconvert_exporter": "python",
   "pygments_lexer": "ipython3",
   "version": "3.9.12"
  }
 },
 "nbformat": 4,
 "nbformat_minor": 5
}
