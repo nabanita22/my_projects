{
 "cells": [
  {
   "cell_type": "code",
   "execution_count": 3,
   "id": "5ae3f20e",
   "metadata": {},
   "outputs": [],
   "source": [
    "class Question:\n",
    "    def __init__(self,text,answer):\n",
    "        self.text=text\n",
    "        self.answer=answer\n",
    "        \n",
    "question_data = [\n",
    "    {\"text\": \"A slug's blood is green.\", \"answer\": \"True\"},\n",
    "    {\"text\": \"The loudest animal is the African Elephant.\", \"answer\": \"False\"},\n",
    "    {\"text\": \"Approximately one quarter of human bones are in the feet.\", \"answer\": \"True\"},\n",
    "    {\"text\": \"The total surface area of a human lungs is the size of a football pitch.\", \"answer\": \"True\"},\n",
    "    {\"text\": \"In West Virginia, USA, if you accidentally hit an animal with your car, you are free to take it home to eat.\", \"answer\": \"True\"},\n",
    "    {\"text\": \"In London, UK, if you happen to die in the House of Parliament, you are entitled to a state funeral.\", \"answer\": \"False\"},\n",
    "    {\"text\": \"It is illegal to pee in the Ocean in Portugal.\", \"answer\": \"True\"},\n",
    "    {\"text\": \"You can lead a cow down stairs but not up stairs.\", \"answer\": \"False\"},\n",
    "    {\"text\": \"Google was originally called 'Backrub'.\", \"answer\": \"True\"},\n",
    "    {\"text\": \"Buzz Aldrin's mother's maiden name was 'Moon'.\", \"answer\": \"True\"},\n",
    "    {\"text\": \"No piece of square dry paper can be folded in half more than 7 times.\", \"answer\": \"False\"},\n",
    "    {\"text\": \"A few ounces of chocolate can to kill a small dog.\", \"answer\": \"True\"}\n",
    "]"
   ]
  },
  {
   "cell_type": "code",
   "execution_count": 34,
   "id": "11366dd8",
   "metadata": {},
   "outputs": [],
   "source": [
    "question_bank=[]\n",
    "a=\"\"\n",
    "for i in question_data:\n",
    "    a=Question(i[\"text\"],i[\"answer\"])\n",
    "    question_bank.append(a)\n",
    "\n",
    "    \n",
    "class Quizbrain:\n",
    "    def __init__(self,ques_list):\n",
    "        self.ques_num=0\n",
    "        self.ques_list=ques_list\n",
    "    def start_question(self):\n",
    "        i=len(self.ques_list)\n",
    "        point=0\n",
    "        while i>0:\n",
    "            try:\n",
    "                question=self.ques_list[self.ques_num]\n",
    "                #print(question)\n",
    "                self.ques_num+=1\n",
    "                #print(question[0])\n",
    "                ask=input(f\"Q.{self.ques_num}:{question.text} (True/False)\").rstrip()\n",
    "                \n",
    "            except Exception as e:\n",
    "                print(e)\n",
    "                break\n",
    "            else:\n",
    "                if ask==question.answer:\n",
    "                    point+=1\n",
    "                    i=i-1\n",
    "                    print(f\"you are write\\nyou got {point} point\")\n",
    "                    if point==12:\n",
    "                        print(f\"wow!! you have great knowledge.your final score is {point}\")\n",
    "\n",
    "                else:\n",
    "                    print(\"you have given wrong ans\")\n",
    "                    i=0\n",
    "            \n",
    "             "
   ]
  },
  {
   "cell_type": "code",
   "execution_count": 33,
   "id": "4c7add8d",
   "metadata": {},
   "outputs": [
    {
     "name": "stdout",
     "output_type": "stream",
     "text": [
      "Q.1:A slug's blood is green. (True/False)True \n",
      "you are write\n",
      "you got 1 point\n",
      "Q.2:The loudest animal is the African Elephant. (True/False)False\n",
      "you are write\n",
      "you got 2 point\n",
      "Q.3:Approximately one quarter of human bones are in the feet. (True/False)True\n",
      "you are write\n",
      "you got 3 point\n",
      "Q.4:The total surface area of a human lungs is the size of a football pitch. (True/False)True\n",
      "you are write\n",
      "you got 4 point\n",
      "Q.5:In West Virginia, USA, if you accidentally hit an animal with your car, you are free to take it home to eat. (True/False)True\n",
      "you are write\n",
      "you got 5 point\n",
      "Q.6:In London, UK, if you happen to die in the House of Parliament, you are entitled to a state funeral. (True/False)False \n",
      "you are write\n",
      "you got 6 point\n",
      "Q.7:It is illegal to pee in the Ocean in Portugal. (True/False)True\n",
      "you are write\n",
      "you got 7 point\n",
      "Q.8:You can lead a cow down stairs but not up stairs. (True/False)False \n",
      "you are write\n",
      "you got 8 point\n",
      "Q.9:Google was originally called 'Backrub'. (True/False)True\n",
      "you are write\n",
      "you got 9 point\n",
      "Q.10:Buzz Aldrin's mother's maiden name was 'Moon'. (True/False)True\n",
      "you are write\n",
      "you got 10 point\n",
      "Q.11:No piece of square dry paper can be folded in half more than 7 times. (True/False)False\n",
      "you are write\n",
      "you got 11 point\n",
      "Q.12:A few ounces of chocolate can to kill a small dog. (True/False)True\n",
      "you are write\n",
      "you got 12 point\n"
     ]
    }
   ],
   "source": [
    "quiz=Quizbrain(question_bank)\n",
    "quiz.start_question()"
   ]
  },
  {
   "cell_type": "code",
   "execution_count": null,
   "id": "55461bc8",
   "metadata": {},
   "outputs": [],
   "source": []
  }
 ],
 "metadata": {
  "kernelspec": {
   "display_name": "Python 3 (ipykernel)",
   "language": "python",
   "name": "python3"
  },
  "language_info": {
   "codemirror_mode": {
    "name": "ipython",
    "version": 3
   },
   "file_extension": ".py",
   "mimetype": "text/x-python",
   "name": "python",
   "nbconvert_exporter": "python",
   "pygments_lexer": "ipython3",
   "version": "3.9.12"
  }
 },
 "nbformat": 4,
 "nbformat_minor": 5
}
