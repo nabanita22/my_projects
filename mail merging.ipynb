{
 "cells": [
  {
   "cell_type": "code",
   "execution_count": 36,
   "id": "3682243a",
   "metadata": {},
   "outputs": [],
   "source": [
    "with open (\"letter.txt\",mode=\"w\") as letter:\n",
    "    letter.write(\"Hello [name],\\ni am inviting you for my birthday\")"
   ]
  },
  {
   "cell_type": "code",
   "execution_count": 37,
   "id": "a169a7f0",
   "metadata": {},
   "outputs": [],
   "source": [
    "with open (\"guest.txt\",mode=\"w\") as guest:\n",
    "    guest.write(\"Tuhina\\nRiya\\nAnurima\\nAnkita\")"
   ]
  },
  {
   "cell_type": "code",
   "execution_count": 46,
   "id": "9ef04a4a",
   "metadata": {},
   "outputs": [],
   "source": [
    "\n",
    "with open (\"guest.txt\") as guest:\n",
    "    guest_list=(guest.readlines())\n",
    "    \n"
   ]
  },
  {
   "cell_type": "code",
   "execution_count": 52,
   "id": "5ec75417",
   "metadata": {},
   "outputs": [],
   "source": [
    "placeholder=\"[name]\"\n",
    "with open (\"letter.txt\") as letter:\n",
    "    content=letter.read()\n",
    "    for i in guest_list:\n",
    "        i_new=i.strip()\n",
    "        x=content.replace(placeholder,i_new)\n",
    "        with open (f\"{i_new}_invite.txt\",mode=\"w\") as new_invite:\n",
    "            new_invite.write(x)\n",
    "        #print(x)"
   ]
  },
  {
   "cell_type": "code",
   "execution_count": null,
   "id": "daa0401b",
   "metadata": {},
   "outputs": [],
   "source": []
  }
 ],
 "metadata": {
  "kernelspec": {
   "display_name": "Python 3 (ipykernel)",
   "language": "python",
   "name": "python3"
  },
  "language_info": {
   "codemirror_mode": {
    "name": "ipython",
    "version": 3
   },
   "file_extension": ".py",
   "mimetype": "text/x-python",
   "name": "python",
   "nbconvert_exporter": "python",
   "pygments_lexer": "ipython3",
   "version": "3.9.12"
  }
 },
 "nbformat": 4,
 "nbformat_minor": 5
}
