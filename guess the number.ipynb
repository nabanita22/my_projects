{
 "cells": [
  {
   "cell_type": "markdown",
   "id": "73b8e2b3",
   "metadata": {},
   "source": [
    "# guess the number"
   ]
  },
  {
   "cell_type": "code",
   "execution_count": 22,
   "id": "d8219ec4",
   "metadata": {},
   "outputs": [],
   "source": [
    "logo=''' \n",
    " _____ _     _____ ____  ____       _____  _     _____     _      _     _      ____  _____ ____ \n",
    "/  __// \\ /\\/  __// ___\\/ ___\\     /__ __\\/ \\ /|/  __/    / \\  /|/ \\ /\\/ \\__/|/  _ \\/  __//  __\\\n",
    "| |  _| | |||  \\  |    \\|    \\       / \\  | |_|||  \\      | |\\ ||| | ||| |\\/||| | //|  \\  |  \\/|\n",
    "| |_//| \\_/||  /_ \\___ |\\___ |       | |  | | |||  /_     | | \\||| \\_/|| |  ||| |_\\\\|  /_ |    /\n",
    "\\____\\\\____/\\____\\\\____/\\____/       \\_/  \\_/ \\|\\____\\    \\_/  \\|\\____/\\_/  \\|\\____/\\____\\\\_/\\_\\\n",
    "                                                                                           \n",
    "'''\n",
    "\n"
   ]
  },
  {
   "cell_type": "code",
   "execution_count": 1,
   "id": "878b5be6",
   "metadata": {},
   "outputs": [
    {
     "name": "stdout",
     "output_type": "stream",
     "text": [
      "Welcome to the Number Guessing Game!\n",
      "I am thinking of a number between 1 and 100\n",
      "Choose a difficulty.type 'easy' or 'hard'\n",
      ": easy\n",
      "You have 10 attempts remaining to guess the number\n",
      "make a guess: \n",
      "60\n",
      "Too high.\n",
      "Guess again.\n",
      "You have 9 attempts remaining to guess the number\n",
      "make a guess: \n",
      "50\n",
      "Too high.\n",
      "Guess again.\n",
      "You have 8 attempts remaining to guess the number\n",
      "make a guess: \n",
      "30\n",
      "Too high.\n",
      "Guess again.\n",
      "You have 7 attempts remaining to guess the number\n",
      "make a guess: \n",
      "20\n",
      "Too high.\n",
      "Guess again.\n",
      "You have 6 attempts remaining to guess the number\n",
      "make a guess: \n",
      "10\n",
      "Too high.\n",
      "Guess again.\n",
      "You have 5 attempts remaining to guess the number\n",
      "make a guess: \n",
      "5\n",
      "you got it!The answer was 5\n"
     ]
    }
   ],
   "source": [
    "NUM=list(range(1,101))\n",
    "import random\n",
    "comp=random.choice(NUM)\n",
    "def easy_game():\n",
    "    i=10\n",
    "    while i>1:\n",
    "        print(f\"You have {i} attempts remaining to guess the number\")\n",
    "        choose=int(input(\"make a guess: \\n\"))\n",
    "        if choose>comp:\n",
    "            print(\"Too high.\\nGuess again.\")\n",
    "            i-=1\n",
    "        elif choose<comp:\n",
    "            print(\"Too low.\\nGuess again.\")\n",
    "            i-=1\n",
    "        elif choose==comp:\n",
    "            print(f\"you got it!The answer was {comp}\")\n",
    "            break\n",
    "def hard_game():\n",
    "    i=5\n",
    "    while i>1:\n",
    "        print(f\"You have {i} attempts remaining to guess the number\")\n",
    "        choose=int(input(\"make a guess: \\n\"))\n",
    "        if choose>comp:\n",
    "            print(\"Too high.\\nGuess again.\")\n",
    "            i-=1\n",
    "        elif choose<comp:\n",
    "            print(\"Too low.\\nGuess again.\")\n",
    "            i-=1\n",
    "        elif choose==comp:\n",
    "            print(f\"you got it!The answer was {comp}\")\n",
    "            break\n",
    "     \n",
    "            \n",
    "print(\"Welcome to the Number Guessing Game!\\nI am thinking of a number between 1 and 100\")\n",
    "ask=input(\"Choose a difficulty.type 'easy' or 'hard'\\n: \").lower()\n",
    "if ask==\"easy\":\n",
    "    easy_game()\n",
    "elif ask==\"hard\":\n",
    "    hard_game()\n"
   ]
  },
  {
   "cell_type": "code",
   "execution_count": null,
   "id": "5ba4dfbd",
   "metadata": {},
   "outputs": [],
   "source": []
  }
 ],
 "metadata": {
  "kernelspec": {
   "display_name": "Python 3 (ipykernel)",
   "language": "python",
   "name": "python3"
  },
  "language_info": {
   "codemirror_mode": {
    "name": "ipython",
    "version": 3
   },
   "file_extension": ".py",
   "mimetype": "text/x-python",
   "name": "python",
   "nbconvert_exporter": "python",
   "pygments_lexer": "ipython3",
   "version": "3.9.12"
  }
 },
 "nbformat": 4,
 "nbformat_minor": 5
}
