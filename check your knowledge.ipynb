{
 "cells": [
  {
   "cell_type": "markdown",
   "id": "bdf2e96f",
   "metadata": {},
   "source": [
    "# higher or lower"
   ]
  },
  {
   "cell_type": "code",
   "execution_count": 3,
   "id": "84b5f391",
   "metadata": {},
   "outputs": [
    {
     "name": "stdout",
     "output_type": "stream",
     "text": [
      "who has the higher follower cristiano or leo messi,type 'A' for cristiano and 'B' for leo messi: \n",
      "\n",
      "a\n",
      "you win,you got 1\n",
      "who has the higher follower kim kardashian or justin bieber,type 'A' for kim kardashian and 'B' for justin bieber: \n",
      "\n",
      "a\n",
      "you win,you got 2\n",
      "who has the higher follower therock or leo messi,type 'A' for therock and 'B' for leo messi: \n",
      "\n",
      "b\n",
      "you win,you got 3\n",
      "who has the higher follower cristiano or leo messi,type 'A' for cristiano and 'B' for leo messi: \n",
      "\n",
      "a\n",
      "you win,you got 4\n",
      "who has the higher follower ariana grande or kim kardashian2,type 'A' for ariana grande and 'B' for kim kardashian2: \n",
      "\n",
      "b\n",
      "you lost\n"
     ]
    }
   ],
   "source": [
    "dit1={\"cristiano\":516,\"selena gomez\": 363, \"therock\": 354,\"ariana grande\":342,\"kim kardashian\":336}\n",
    "dit2={\"leo messi\":392,\"kim kardashian2\":330,\"nike\":257,\"cardi B\":146,\"justin bieber\":270}\n",
    "names1=[\"cristiano\",\"selena gomez\", \"therock\",\"ariana grande\",\"kim kardashian\"]\n",
    "names2=[\"leo messi\",\"kim kardashian2\",\"nike\",\"cardi B\",\"justin bieber\"]\n",
    "points=0\n",
    "conti=1\n",
    "while conti>0:\n",
    "    import random\n",
    "    nums1=random.randint(0,4)\n",
    "    nums2=random.randint(0,4)\n",
    "    score1=[[i,dit1[i]] for i in dit1 if i==names1[nums1]]\n",
    "    score2=[[j,dit2[j]] for j in dit2 if j==names2[nums2]]\n",
    "\n",
    "\n",
    "    #vprint(score1,score2,nums1,nums2)\n",
    "    print(f\"who has the higher follower {score1[0][0]} or {score2[0][0]},type 'A' for {score1[0][0]} and 'B' for {score2[0][0]}: \\n\")\n",
    "    #print(f\"{nums1},num1 ; {nums2},num2\")\n",
    "    #print(l)\n",
    "    ask=input().upper()   \n",
    "    if ask==\"A\" and score1[0][1]>score2[0][1]:\n",
    "        points=points+1\n",
    "        print(f\"you win,you got {points}\")\n",
    "    elif ask==\"B\" and score1[0][1]<score2[0][1]:\n",
    "        points=points+1\n",
    "        print(f\"you win,you got {points}\")\n",
    "    else:\n",
    "        print(\"oopps!!you lost\")\n",
    "        conti=0\n",
    "\n",
    "        "
   ]
  },
  {
   "cell_type": "code",
   "execution_count": null,
   "id": "e6cec411",
   "metadata": {},
   "outputs": [],
   "source": []
  }
 ],
 "metadata": {
  "kernelspec": {
   "display_name": "Python 3 (ipykernel)",
   "language": "python",
   "name": "python3"
  },
  "language_info": {
   "codemirror_mode": {
    "name": "ipython",
    "version": 3
   },
   "file_extension": ".py",
   "mimetype": "text/x-python",
   "name": "python",
   "nbconvert_exporter": "python",
   "pygments_lexer": "ipython3",
   "version": "3.9.12"
  }
 },
 "nbformat": 4,
 "nbformat_minor": 5
}
