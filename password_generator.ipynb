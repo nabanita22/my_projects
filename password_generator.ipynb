{
 "cells": [
  {
   "cell_type": "code",
   "execution_count": 1,
   "id": "61defa2a",
   "metadata": {},
   "outputs": [],
   "source": [
    "# random password\n",
    "def password():\n",
    "    upper_char=[\"A\",\"B\",\"C\",\"D\",\"E\",\"F\",\"G\",\"H\",\"I\",\"J\",\"K\",\"L\",\"M\",\"N\",\"O\",\"P\",\"Q\",\"R\",\"S\",\"T\",\"U\",\"V\",\"W\",\"X\",\"Y\",\"Z\"]\n",
    "    lower_char=[\"a\",\"b\",\"c\",\"d\",\"e\",\"f\",\"g\",\"h\"]\n",
    "    num=[\"1\",\"2\",\"3\",\"4\",\"5\",\"6\",\"7\",\"8\",\"9\"]\n",
    "    special_char=[\"@\",\"#\",\"$\",\"%\",\"!\"]  \n",
    "    import random\n",
    "    password=\"\"\n",
    "    upper_digit=random.choices(upper_char,k=3)\n",
    "    lower_digit=random.choice(lower_char)\n",
    "    num_digit=random.choice(num)\n",
    "    special_digit=random.choice(special_char)\n",
    "    \n",
    "    for i in upper_digit:\n",
    "        \n",
    "        password+=i\n",
    "    password+=lower_digit\n",
    "    password+=str(num_digit)\n",
    "    password+=special_digit\n",
    "    print(password)"
   ]
  },
  {
   "cell_type": "code",
   "execution_count": 33,
   "id": "9c67a84b",
   "metadata": {},
   "outputs": [
    {
     "name": "stdout",
     "output_type": "stream",
     "text": [
      "OMBf8@\n"
     ]
    }
   ],
   "source": [
    "password()"
   ]
  },
  {
   "cell_type": "markdown",
   "id": "fd42fa75",
   "metadata": {},
   "source": [
    "# readable password"
   ]
  },
  {
   "cell_type": "code",
   "execution_count": 26,
   "id": "1001234b",
   "metadata": {},
   "outputs": [],
   "source": [
    "def password_readable():\n",
    "    import random\n",
    "    words=[]\n",
    "    num=[\"1\",\"2\",\"3\",\"4\",\"5\",\"6\",\"7\",\"8\",\"9\"]\n",
    "    special_char=[\"@\",\"#\",\"$\",\"%\",\"!\"] \n",
    "    with open (\"password_wiki\",\"r\") as my_list:\n",
    "        w=my_list.readlines()\n",
    "        for i in w:\n",
    "            a=i.split(\" \")\n",
    "            for j in a:\n",
    "                if len(j.strip())==5 and j.strip().isalpha()==True:\n",
    "                    words.append(j)\n",
    "    password=random.choice(words)+random.choice(special_char)+random.choice(num)\n",
    "    print(password)\n",
    "    "
   ]
  },
  {
   "cell_type": "code",
   "execution_count": 38,
   "id": "9301016a",
   "metadata": {},
   "outputs": [
    {
     "name": "stdout",
     "output_type": "stream",
     "text": [
      "typed@8\n"
     ]
    }
   ],
   "source": [
    "password_readable()"
   ]
  },
  {
   "cell_type": "code",
   "execution_count": null,
   "id": "c3bb7567",
   "metadata": {},
   "outputs": [],
   "source": []
  }
 ],
 "metadata": {
  "kernelspec": {
   "display_name": "Python 3 (ipykernel)",
   "language": "python",
   "name": "python3"
  },
  "language_info": {
   "codemirror_mode": {
    "name": "ipython",
    "version": 3
   },
   "file_extension": ".py",
   "mimetype": "text/x-python",
   "name": "python",
   "nbconvert_exporter": "python",
   "pygments_lexer": "ipython3",
   "version": "3.9.12"
  }
 },
 "nbformat": 4,
 "nbformat_minor": 5
}
