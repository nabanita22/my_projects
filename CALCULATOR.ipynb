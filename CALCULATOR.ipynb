{
 "cells": [
  {
   "cell_type": "code",
   "execution_count": 10,
   "id": "00bd4661",
   "metadata": {},
   "outputs": [],
   "source": [
    "class Calculator:\n",
    "    def __init__(self):\n",
    "        self.a=int(input(\"type 1st number:\\n\"))\n",
    "        self.b=int(input(\"type 2nd number:\\n\"))\n",
    "        self.operator=input(\"type 'sum' for sum\\ntype 'sub' for substraction\\ntype 'mul' for multiplication\\ntype 'div' for divition:\\n\")\n",
    "        \n",
    "        \n",
    "    def calculation(self): \n",
    "        try:\n",
    "            if self.operator==\"mul\":\n",
    "                print(f'{self.a}*{self.b}= {self.a*self.b}')\n",
    "\n",
    "\n",
    "            elif self.operator==\"sum\":\n",
    "                print(f'{self.a}+{self.b}= {self.a+self.b}')\n",
    "\n",
    "            elif self.operator==\"div\":\n",
    "                print(f'{self.a}/{self.b}= {self.a/self.b}')\n",
    "\n",
    "            elif self.operator==\"sub\":\n",
    "                print(f'{self.a}-{self.b}= {self.a-self.b}')\n",
    "\n",
    "        except Exception as e:\n",
    "            print(e)\n",
    "            "
   ]
  },
  {
   "cell_type": "code",
   "execution_count": 11,
   "id": "7d470946",
   "metadata": {},
   "outputs": [
    {
     "name": "stdout",
     "output_type": "stream",
     "text": [
      "type 1st number:\n",
      "7\n",
      "type 2nd number:\n",
      "6\n",
      "type 'sum' for sum\n",
      "type 'sub' for substraction\n",
      "type 'mul' for multiplication\n",
      "type 'div' for divition:\n",
      "sum\n"
     ]
    }
   ],
   "source": [
    "c1=Calculator()"
   ]
  },
  {
   "cell_type": "code",
   "execution_count": 12,
   "id": "f6278003",
   "metadata": {},
   "outputs": [
    {
     "name": "stdout",
     "output_type": "stream",
     "text": [
      "type 1st number:\n",
      "8\n",
      "type 2nd number:\n",
      "9\n",
      "type 'sum' for sum\n",
      "type 'sub' for substraction\n",
      "type 'mul' for multiplication\n",
      "type 'div' for divition:\n",
      "sub\n"
     ]
    }
   ],
   "source": [
    "c2=Calculator()"
   ]
  },
  {
   "cell_type": "code",
   "execution_count": 13,
   "id": "710a1364",
   "metadata": {},
   "outputs": [
    {
     "name": "stdout",
     "output_type": "stream",
     "text": [
      "type 1st number:\n",
      "45\n",
      "type 2nd number:\n",
      "6\n",
      "type 'sum' for sum\n",
      "type 'sub' for substraction\n",
      "type 'mul' for multiplication\n",
      "type 'div' for divition:\n",
      "mul\n"
     ]
    }
   ],
   "source": [
    "c3=Calculator()"
   ]
  },
  {
   "cell_type": "code",
   "execution_count": 14,
   "id": "e4313f93",
   "metadata": {},
   "outputs": [
    {
     "name": "stdout",
     "output_type": "stream",
     "text": [
      "type 1st number:\n",
      "3\n",
      "type 2nd number:\n",
      "8\n",
      "type 'sum' for sum\n",
      "type 'sub' for substraction\n",
      "type 'mul' for multiplication\n",
      "type 'div' for divition:\n",
      "div\n"
     ]
    }
   ],
   "source": [
    "c4=Calculator()"
   ]
  },
  {
   "cell_type": "code",
   "execution_count": 15,
   "id": "bb9a24d2",
   "metadata": {},
   "outputs": [
    {
     "name": "stdout",
     "output_type": "stream",
     "text": [
      "7+6= 13\n"
     ]
    }
   ],
   "source": [
    "c1.calculation()"
   ]
  },
  {
   "cell_type": "code",
   "execution_count": 16,
   "id": "1420b655",
   "metadata": {},
   "outputs": [
    {
     "name": "stdout",
     "output_type": "stream",
     "text": [
      "8-9= -1\n"
     ]
    }
   ],
   "source": [
    "c2.calculation()"
   ]
  },
  {
   "cell_type": "code",
   "execution_count": 17,
   "id": "d3de34f9",
   "metadata": {},
   "outputs": [
    {
     "name": "stdout",
     "output_type": "stream",
     "text": [
      "45*6= 270\n"
     ]
    }
   ],
   "source": [
    "c3.calculation()"
   ]
  },
  {
   "cell_type": "code",
   "execution_count": 18,
   "id": "3c4cd9fe",
   "metadata": {},
   "outputs": [
    {
     "name": "stdout",
     "output_type": "stream",
     "text": [
      "3/8= 0.375\n"
     ]
    }
   ],
   "source": [
    "c4.calculation()"
   ]
  },
  {
   "cell_type": "code",
   "execution_count": null,
   "id": "643efdbf",
   "metadata": {},
   "outputs": [],
   "source": []
  }
 ],
 "metadata": {
  "kernelspec": {
   "display_name": "Python 3 (ipykernel)",
   "language": "python",
   "name": "python3"
  },
  "language_info": {
   "codemirror_mode": {
    "name": "ipython",
    "version": 3
   },
   "file_extension": ".py",
   "mimetype": "text/x-python",
   "name": "python",
   "nbconvert_exporter": "python",
   "pygments_lexer": "ipython3",
   "version": "3.9.12"
  }
 },
 "nbformat": 4,
 "nbformat_minor": 5
}
